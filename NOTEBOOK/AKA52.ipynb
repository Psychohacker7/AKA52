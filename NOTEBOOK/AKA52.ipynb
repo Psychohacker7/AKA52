{
 "cells": [
  {
   "cell_type": "code",
   "execution_count": 10,
   "metadata": {},
   "outputs": [],
   "source": [
    "import h5py\n",
    "import matplotlib.pyplot as plt\n",
    "import numpy as np\n",
    "from enum import Enum\n",
    "import collections\n",
    "from pylab import meshgrid\n",
    "\n",
    "\n",
    "%matplotlib inline\n",
    "\n",
    "class FIELD(Enum):       \n",
    "        ELECTRIC = [1,['0_0', '0_1', '0_2']]\n",
    "        CURRENT = [1,['1_0', '1_1', '1_2']]\n",
    "        VELOCION = [1,['2_0', '2_1', '2_2']]\n",
    "        DENSELEC = [1,['3_0']]\n",
    "        PRESSURE = [1,['4_0', '4_1', '4_2','4_3', '4_4', '4_5']]\n",
    "        DENSITY = [1,['5_0']]\n",
    "        VELOCITY = [1,['5_1', '5_2', '5_3']]\n",
    "        DENSITY1 = [1,['6_0']]\n",
    "        VELOCITY1 = [1,['6_1', '6_2', '6_3']]\n",
    "        DENSITY2 = [1,['7_0']]\n",
    "        VELOCITY2 = [1,['7_1', '7_2', '7_3']]\n",
    "        MAGNETIC = [1,['8_0', '8_1', '8_2']]\n",
    "        RESIST = [1,['9_0', '9_1']]\n",
    "    \n",
    "\n",
    "                    \n",
    "def loadData(filePath):           \n",
    "        f = h5py.File(filePath, 'r')\n",
    "        allData = collections.defaultdict(lambda: np.ndarray(0))\n",
    "        for fld in FIELD:\n",
    "                VAR0_name = 'vars/'+fld.value[1][0]\n",
    "                SHAPE = f[VAR0_name].shape            \n",
    "                Lx=SHAPE[0]\n",
    "                Ly=SHAPE[1]\n",
    "                Lz=SHAPE[2]\n",
    "                data = np.zeros([Lx, Ly, Lz,  6])\n",
    "                idx = 0\n",
    "                for field in fld.value[1]:\n",
    "                    VAR_name = 'vars/'+field\n",
    "                    data[...,idx] = f[VAR_name][...]\n",
    "                    idx += 1\n",
    "                    allData[fld] = data                   \n",
    "        f.close()\n",
    "        return allData\n",
    "        \n",
    "        \n",
    "def loadVar(filePath, fld):           \n",
    "        f = h5py.File(filePath, 'r')\n",
    "        allData = collections.defaultdict(lambda: np.ndarray(0))\n",
    "        VAR0_name = 'vars/'+fld.value[1][0]\n",
    "        SHAPE = f[VAR0_name].shape    \n",
    "        Lx=SHAPE[0]\n",
    "        Ly=SHAPE[1]\n",
    "        Lz=SHAPE[2]\n",
    "        data = np.zeros([Lx, Ly, Lz, len(fld.value[1])])\n",
    "        idx = 0\n",
    "        for field in fld.value[1]:\n",
    "            VAR_name = 'vars/'+field\n",
    "            data[...,idx] = f[VAR_name]\n",
    "            idx += 1\n",
    "            \n",
    "        f.close()\n",
    "        return data\n",
    "    \n",
    "def loadVarComp(filePath, fld, comp):           \n",
    "        f = h5py.File(filePath, 'r')\n",
    "        allData = collections.defaultdict(lambda: np.ndarray(0))\n",
    "        VAR0_name = 'vars/'+fld.value[1][0]\n",
    "        SHAPE = f[VAR0_name].shape    \n",
    "        Lx=SHAPE[0]\n",
    "        Ly=SHAPE[1]\n",
    "        Lz=SHAPE[2]\n",
    "        data = np.zeros([Lx, Ly, Lz])\n",
    "        VAR_name = 'vars/'+fld.value[1][comp]\n",
    "        data[...] = f[VAR_name]\n",
    "            \n",
    "        f.close()\n",
    "        return data \n",
    "    "
   ]
  },
  {
   "cell_type": "code",
   "execution_count": 46,
   "metadata": {},
   "outputs": [
    {
     "data": {
      "text/plain": [
       "<matplotlib.image.AxesImage at 0x1224c07d0>"
      ]
     },
     "execution_count": 46,
     "metadata": {},
     "output_type": "execute_result"
    },
    {
     "data": {
      "image/png": "[encoded data removed]",
      "text/plain": [
       "<Figure size 1500x800 with 2 Axes>"
      ]
     },
     "metadata": {
      "needs_background": "light"
     },
     "output_type": "display_data"
    }
   ],
   "source": [
    "filePath = '/Users/asladkov/workspace/git/AKA/output/'\n",
    "fileName = 'test_laser3D_10.h5'\n",
    "\n",
    "fig, ax = plt.subplots(1,2, figsize = [15, 8], dpi = 100) \n",
    "\n",
    "data2Plt = loadVarComp(filePath+fileName, FIELD.DENSITY2, 0)\n",
    "[lx, ly, lz] = data2Plt.shape\n",
    "\n",
    "lx2 = int(0.5*lx)\n",
    "vmax = 2\n",
    "ax[0].imshow( np.transpose(data2Plt[lx2,...]), origin = 'lower', vmin = -vmax, vmax = vmax)\n",
    "\n",
    "data2Plt = loadVarComp(filePath+fileName, FIELD.MAGNETIC,0)\n",
    "vmax = 0.1\n",
    "ax[1].imshow( np.transpose(data2Plt[lx2,...]), origin = 'lower', vmin = -vmax, vmax = vmax)\n",
    "\n",
    "\n"
   ]
  },
  {
   "cell_type": "code",
   "execution_count": null,
   "metadata": {},
   "outputs": [],
   "source": []
  }
 ],
 "metadata": {
  "anaconda-cloud": {},
  "kernelspec": {
   "display_name": "Python 3",
   "language": "python",
   "name": "python3"
  },
  "language_info": {
   "codemirror_mode": {
    "name": "ipython",
    "version": 3
   },
   "file_extension": ".py",
   "mimetype": "text/x-python",
   "name": "python",
   "nbconvert_exporter": "python",
   "pygments_lexer": "ipython3",
   "version": "3.7.6"
  }
 },
 "nbformat": 4,
 "nbformat_minor": 1
}
